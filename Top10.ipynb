{
 "cells": [
  {
   "cell_type": "code",
   "execution_count": null,
   "id": "940b6051-0de6-4c75-8191-1c5cbe8710c6",
   "metadata": {},
   "outputs": [],
   "source": [
    "import numpy as np\n",
    "import pandas as pd"
   ]
  },
  {
   "cell_type": "code",
   "execution_count": null,
   "id": "77a8686d-fe15-4f72-a72e-5828c5e796d0",
   "metadata": {},
   "outputs": [],
   "source": [
    "df = pd.read_csv(\"311_Service_Requests_2020.csv\")"
   ]
  },
  {
   "cell_type": "code",
   "execution_count": null,
   "id": "70f14b09-0aaa-4dc6-adcd-4107926bde7b",
   "metadata": {},
   "outputs": [],
   "source": [
    "df2 = df[df['Incident Zip']==10027]\n",
    "print('We chose 10027 as our Zip code for the analysis')"
   ]
  },
  {
   "cell_type": "code",
   "execution_count": null,
   "id": "e77fae75-4c14-44db-bb99-30b65081052f",
   "metadata": {},
   "outputs": [],
   "source": [
    "cause = df2['Complaint Type'].value_counts()"
   ]
  },
  {
   "cell_type": "code",
   "execution_count": null,
   "id": "85c77238-ba17-4fd0-9494-2f89682d6483",
   "metadata": {},
   "outputs": [],
   "source": [
    "top10 = cause[:10]\n",
    "top10"
   ]
  }
 ],
 "metadata": {
  "kernelspec": {
   "display_name": "Python 3",
   "language": "python",
   "name": "python3"
  },
  "language_info": {
   "codemirror_mode": {
    "name": "ipython",
    "version": 3
   },
   "file_extension": ".py",
   "mimetype": "text/x-python",
   "name": "python",
   "nbconvert_exporter": "python",
   "pygments_lexer": "ipython3",
   "version": "3.8.8"
  }
 },
 "nbformat": 4,
 "nbformat_minor": 5
}
