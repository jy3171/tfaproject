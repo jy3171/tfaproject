{
 "cells": [
  {
   "cell_type": "code",
   "execution_count": 1,
   "id": "73cf017f-d23c-48be-a06f-200142021a6b",
   "metadata": {},
   "outputs": [],
   "source": [
    "import pandas as pd\n",
    "import numpy as np"
   ]
  },
  {
   "cell_type": "code",
   "execution_count": null,
   "id": "991c23f7-dce1-49a4-8be1-8756beec0488",
   "metadata": {},
   "outputs": [],
   "source": [
    "df = pd.read_csv('311_Service_Requests_2020.csv')"
   ]
  },
  {
   "cell_type": "code",
   "execution_count": null,
   "id": "374a5568-e36e-41cd-888e-10de79f8464a",
   "metadata": {},
   "outputs": [],
   "source": [
    "df_parking = df[df['Complaint Type']=='Illegal Parking']"
   ]
  },
  {
   "cell_type": "code",
   "execution_count": null,
   "id": "81f379eb-d794-4b1d-962c-12b4dccfd0b5",
   "metadata": {},
   "outputs": [],
   "source": [
    "print(f'The total number of all incidents in general in 2020 is {len(df)}.')\n",
    "print(f'The total number of parking incidents in general in 2020 is {len(df_parking)}.')\n",
    "frac_parking_all = '{:.2%}'.format(len(df_parking)/len(df))\n",
    "print(f'The fraction of parking incidents in general is {frac_parking_all}.')"
   ]
  },
  {
   "cell_type": "code",
   "execution_count": null,
   "id": "56c12f66-8a98-447d-9aff-b78bebe042fc",
   "metadata": {},
   "outputs": [],
   "source": [
    "print('We chose 10027 as our Zip code for the analysis')\n",
    "df_10027 = df[df['Incident Zip']==10027]\n",
    "df_10027_parking = df_10027[df_10027['Complaint Type']=='Illegal Parking']"
   ]
  },
  {
   "cell_type": "code",
   "execution_count": null,
   "id": "823c23f2-5b70-47be-bf91-f123b85200ec",
   "metadata": {},
   "outputs": [],
   "source": [
    "print(f'The total number of all incidents in zip 10027 in 2020 is {len(df_10027)}.')\n",
    "print(f'The total number of parking incidents in zip 10027 in 2020 is {len(df_10027_parking)}.')\n",
    "frac_parking_10027 = '{:.2%}'.format(len(df_10027_parking)/len(df_10027))\n",
    "print(f'The fraction of parking incidents in zip 10027 is {frac_parking_10027}.')"
   ]
  },
  {
   "cell_type": "code",
   "execution_count": null,
   "id": "84cf3336-ff69-4f06-b81c-5ed488f1c768",
   "metadata": {},
   "outputs": [],
   "source": [
    "higher_parking_proportion = frac_parking_10027 > frac_parking_all\n",
    "higher_parking_proportion"
   ]
  },
  {
   "cell_type": "code",
   "execution_count": null,
   "id": "17c2d4b9-6556-4c76-b421-d60113db609e",
   "metadata": {},
   "outputs": [],
   "source": [
    "print('Our ZIP 10027 contains a lower proportion of parking incidents than the global value.')"
   ]
  },
  {
   "cell_type": "code",
   "execution_count": null,
   "id": "90e12c81-f70c-4d11-a97f-855f9390ce89",
   "metadata": {},
   "outputs": [],
   "source": []
  }
 ],
 "metadata": {
  "kernelspec": {
   "display_name": "Python 3",
   "language": "python",
   "name": "python3"
  },
  "language_info": {
   "codemirror_mode": {
    "name": "ipython",
    "version": 3
   },
   "file_extension": ".py",
   "mimetype": "text/x-python",
   "name": "python",
   "nbconvert_exporter": "python",
   "pygments_lexer": "ipython3",
   "version": "3.8.8"
  }
 },
 "nbformat": 4,
 "nbformat_minor": 5
}
